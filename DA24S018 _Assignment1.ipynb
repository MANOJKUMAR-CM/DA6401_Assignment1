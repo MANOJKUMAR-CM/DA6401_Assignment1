{
 "cells": [
  {
   "cell_type": "code",
   "execution_count": 1,
   "id": "e41387bf",
   "metadata": {},
   "outputs": [],
   "source": [
    "import os\n",
    "os.environ[\"WANDB_NOTEBOOK_NAME\"] = \"DA24S018_Assignment1.ipynb\""
   ]
  },
  {
   "cell_type": "code",
   "execution_count": 2,
   "id": "a6ddb7dd",
   "metadata": {},
   "outputs": [],
   "source": [
    "import numpy as np\n",
    "import wandb\n",
    "from keras.datasets import fashion_mnist\n",
    "import matplotlib.pyplot as plt"
   ]
  },
  {
   "cell_type": "markdown",
   "id": "f7bb243c",
   "metadata": {},
   "source": [
    "### Loading the Fashion_Mnist data"
   ]
  },
  {
   "cell_type": "code",
   "execution_count": 3,
   "id": "91db27e6",
   "metadata": {},
   "outputs": [],
   "source": [
    "(x_train, y_train), (x_test, y_test) = fashion_mnist.load_data()"
   ]
  },
  {
   "cell_type": "code",
   "execution_count": 4,
   "id": "de42d1a7",
   "metadata": {},
   "outputs": [
    {
     "name": "stdout",
     "output_type": "stream",
     "text": [
      "No of Training Samples:  60000\n",
      "No of Testing Samples:  10000\n",
      "Shape of the images in Fashion_Mnist Dataset:  (28, 28)\n",
      "No of Unique Labels of Fashion_Mnist:  [0 1 2 3 4 5 6 7 8 9]\n"
     ]
    }
   ],
   "source": [
    "print(\"No of Training Samples: \", x_train.shape[0])\n",
    "print(\"No of Testing Samples: \", x_test.shape[0])\n",
    "print(\"Shape of the images in Fashion_Mnist Dataset: \", x_train.shape[1:])\n",
    "print(\"No of Unique Labels of Fashion_Mnist: \", np.unique(y_test))"
   ]
  },
  {
   "cell_type": "code",
   "execution_count": 5,
   "id": "1ccc35a6",
   "metadata": {},
   "outputs": [
    {
     "name": "stdout",
     "output_type": "stream",
     "text": [
      "Mapping of label to Label/ Class Names: \n"
     ]
    },
    {
     "data": {
      "text/plain": [
       "{0: 'T-shirt/Top',\n",
       " 1: 'Trouser',\n",
       " 2: 'Pullover',\n",
       " 3: 'Dress',\n",
       " 4: 'Coat',\n",
       " 5: 'Sandal',\n",
       " 6: 'Shirt',\n",
       " 7: 'Sneaker',\n",
       " 8: 'Bag',\n",
       " 9: 'Ankle boot'}"
      ]
     },
     "execution_count": 5,
     "metadata": {},
     "output_type": "execute_result"
    }
   ],
   "source": [
    "# Creating a mapping from labels to label names\n",
    "label_names = [\"T-shirt/Top\", \"Trouser\", \"Pullover\", \"Dress\", \"Coat\", \"Sandal\", \"Shirt\", \"Sneaker\", \"Bag\", \"Ankle boot\"]\n",
    "d = {}\n",
    "for i in range(10):\n",
    "    d[i] = label_names[i]\n",
    "\n",
    "print(\"Mapping of label to Label/ Class Names: \")\n",
    "d"
   ]
  },
  {
   "cell_type": "code",
   "execution_count": 6,
   "id": "62207ba7",
   "metadata": {},
   "outputs": [
    {
     "name": "stdout",
     "output_type": "stream",
     "text": [
      "[(0, 1), (1, 16), (2, 5), (3, 3), (4, 19), (5, 8), (6, 18), (7, 6), (8, 23), (9, 0)]\n"
     ]
    }
   ],
   "source": [
    "# To get index of one sample from each class\n",
    "index = []\n",
    "for i in range(10): \n",
    "    index.append((i, list(y_train).index(i))) # (class label, sample index)\n",
    "print(index) "
   ]
  },
  {
   "cell_type": "code",
   "execution_count": 7,
   "id": "bc68ea3f",
   "metadata": {},
   "outputs": [],
   "source": [
    "images = []\n",
    "labels = []\n",
    "for class_label, sample_index in index:\n",
    "    images.append(x_train[sample_index])\n",
    "    labels.append(d[class_label])\n",
    "    "
   ]
  },
  {
   "cell_type": "code",
   "execution_count": 8,
   "id": "6e617b0e",
   "metadata": {},
   "outputs": [
    {
     "data": {
      "image/png": "[encoded data removed]",
      "text/plain": [
       "<Figure size 1500x300 with 10 Axes>"
      ]
     },
     "metadata": {},
     "output_type": "display_data"
    }
   ],
   "source": [
    "# To verify the sample images\n",
    "fig, axes = plt.subplots(1, 10, figsize=(15, 3))\n",
    "\n",
    "for i, ax in enumerate(axes):\n",
    "    ax.imshow(images[i], cmap=\"gray\") \n",
    "    ax.set_title(labels[i])  \n",
    "    ax.axis(\"off\") \n",
    "\n",
    "plt.show()"
   ]
  },
  {
   "cell_type": "code",
   "execution_count": 19,
   "id": "d5181e96",
   "metadata": {},
   "outputs": [
    {
     "data": {
      "text/html": [
       "creating run (0.0s)"
      ],
      "text/plain": [
       "<IPython.core.display.HTML object>"
      ]
     },
     "metadata": {},
     "output_type": "display_data"
    },
    {
     "data": {
      "text/html": [
       "Tracking run with wandb version 0.19.7"
      ],
      "text/plain": [
       "<IPython.core.display.HTML object>"
      ]
     },
     "metadata": {},
     "output_type": "display_data"
    },
    {
     "data": {
      "text/html": [
       "Run data is saved locally in <code>C:\\Users\\MANOJ\\Documents\\DL\\DA6401_Assignment1\\wandb\\run-20250222_204719-8wbzoq8j</code>"
      ],
      "text/plain": [
       "<IPython.core.display.HTML object>"
      ]
     },
     "metadata": {},
     "output_type": "display_data"
    },
    {
     "data": {
      "text/html": [
       "Syncing run <strong><a href='https://wandb.ai/manoj_da24s018-iit-madras/Assignment1_BackPropogation/runs/8wbzoq8j' target=\"_blank\">Logging_Fashion_MNIST_sample_images</a></strong> to <a href='https://wandb.ai/manoj_da24s018-iit-madras/Assignment1_BackPropogation' target=\"_blank\">Weights & Biases</a> (<a href='https://wandb.me/developer-guide' target=\"_blank\">docs</a>)<br>"
      ],
      "text/plain": [
       "<IPython.core.display.HTML object>"
      ]
     },
     "metadata": {},
     "output_type": "display_data"
    },
    {
     "data": {
      "text/html": [
       " View project at <a href='https://wandb.ai/manoj_da24s018-iit-madras/Assignment1_BackPropogation' target=\"_blank\">https://wandb.ai/manoj_da24s018-iit-madras/Assignment1_BackPropogation</a>"
      ],
      "text/plain": [
       "<IPython.core.display.HTML object>"
      ]
     },
     "metadata": {},
     "output_type": "display_data"
    },
    {
     "data": {
      "text/html": [
       " View run at <a href='https://wandb.ai/manoj_da24s018-iit-madras/Assignment1_BackPropogation/runs/8wbzoq8j' target=\"_blank\">https://wandb.ai/manoj_da24s018-iit-madras/Assignment1_BackPropogation/runs/8wbzoq8j</a>"
      ],
      "text/plain": [
       "<IPython.core.display.HTML object>"
      ]
     },
     "metadata": {},
     "output_type": "display_data"
    },
    {
     "data": {
      "text/html": [
       "<button onClick=\"this.nextSibling.style.display='block';this.style.display='none';\">Display W&B run</button><iframe src='https://wandb.ai/manoj_da24s018-iit-madras/Assignment1_BackPropogation/runs/8wbzoq8j?jupyter=true' style='border:none;width:100%;height:420px;display:none;'></iframe>"
      ],
      "text/plain": [
       "<wandb.sdk.wandb_run.Run at 0x22fe4329390>"
      ]
     },
     "execution_count": 19,
     "metadata": {},
     "output_type": "execute_result"
    }
   ],
   "source": [
    "# To log sample images in wandb.ai\n",
    "wandb.init(project=\"Assignment1_BackPropogation\", \n",
    "           entity=\"manoj_da24s018-iit-madras\", \n",
    "           name=\"Logging_Fashion_MNIST_sample_images\")"
   ]
  },
  {
   "cell_type": "code",
   "execution_count": 20,
   "id": "04e23206",
   "metadata": {},
   "outputs": [
    {
     "data": {
      "text/html": [],
      "text/plain": [
       "<IPython.core.display.HTML object>"
      ]
     },
     "metadata": {},
     "output_type": "display_data"
    },
    {
     "data": {
      "text/html": [
       " View run <strong style=\"color:#cdcd00\">Logging_Fashion_MNIST_sample_images</strong> at: <a href='https://wandb.ai/manoj_da24s018-iit-madras/Assignment1_BackPropogation/runs/8wbzoq8j' target=\"_blank\">https://wandb.ai/manoj_da24s018-iit-madras/Assignment1_BackPropogation/runs/8wbzoq8j</a><br> View project at: <a href='https://wandb.ai/manoj_da24s018-iit-madras/Assignment1_BackPropogation' target=\"_blank\">https://wandb.ai/manoj_da24s018-iit-madras/Assignment1_BackPropogation</a><br>Synced 5 W&B file(s), 10 media file(s), 0 artifact file(s) and 0 other file(s)"
      ],
      "text/plain": [
       "<IPython.core.display.HTML object>"
      ]
     },
     "metadata": {},
     "output_type": "display_data"
    },
    {
     "data": {
      "text/html": [
       "Find logs at: <code>.\\wandb\\run-20250222_204719-8wbzoq8j\\logs</code>"
      ],
      "text/plain": [
       "<IPython.core.display.HTML object>"
      ]
     },
     "metadata": {},
     "output_type": "display_data"
    }
   ],
   "source": [
    "w_images = []\n",
    "for img, label in zip(images, labels): \n",
    "    w_images.append(wandb.Image(img, caption=f\"{label}\"))\n",
    "wandb.log({\"Fashion_MNIST_Samples\":  w_images})\n",
    "wandb.finish()"
   ]
  },
  {
   "cell_type": "code",
   "execution_count": null,
   "id": "71b4eba4",
   "metadata": {},
   "outputs": [],
   "source": []
  }
 ],
 "metadata": {
  "kernelspec": {
   "display_name": "Python 3 (ipykernel)",
   "language": "python",
   "name": "python3"
  },
  "language_info": {
   "codemirror_mode": {
    "name": "ipython",
    "version": 3
   },
   "file_extension": ".py",
   "mimetype": "text/x-python",
   "name": "python",
   "nbconvert_exporter": "python",
   "pygments_lexer": "ipython3",
   "version": "3.10.11"
  }
 },
 "nbformat": 4,
 "nbformat_minor": 5
}
